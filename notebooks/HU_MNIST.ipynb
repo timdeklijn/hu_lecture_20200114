{
  "nbformat": 4,
  "nbformat_minor": 0,
  "metadata": {
    "colab": {
      "name": "HU_MNIST.ipynb",
      "provenance": [],
      "collapsed_sections": [],
      "include_colab_link": true
    },
    "kernelspec": {
      "name": "python3",
      "display_name": "Python 3"
    },
    "accelerator": "GPU"
  },
  "cells": [
    {
      "cell_type": "markdown",
      "metadata": {
        "id": "view-in-github",
        "colab_type": "text"
      },
      "source": [
        "<a href=\"https://colab.research.google.com/github/timdeklijn/hu_lecture_20200114/blob/master/notebooks/HU_MNIST.ipynb\" target=\"_parent\"><img src=\"https://colab.research.google.com/assets/colab-badge.svg\" alt=\"Open In Colab\"/></a>"
      ]
    },
    {
      "cell_type": "markdown",
      "metadata": {
        "id": "cIOIw3FQoTnH",
        "colab_type": "text"
      },
      "source": [
        "# Handwritten digit recognition on MNIST data set\n",
        "\n",
        "\n"
      ]
    },
    {
      "cell_type": "markdown",
      "metadata": {
        "id": "fmrz8lKLQsdR",
        "colab_type": "text"
      },
      "source": [
        "## Usecase: create a model that can recognise handwritten digits."
      ]
    },
    {
      "cell_type": "markdown",
      "metadata": {
        "id": "ln1kdqX3oYq9",
        "colab_type": "text"
      },
      "source": [
        "## imports"
      ]
    },
    {
      "cell_type": "code",
      "metadata": {
        "id": "OlgbRMe1WndW",
        "colab_type": "code",
        "colab": {}
      },
      "source": [
        "# Deep learning library\n",
        "import tensorflow as tf\n",
        "# plotting library\n",
        "import matplotlib.pyplot as plt\n",
        "# Numerical calculations library\n",
        "import numpy as np"
      ],
      "execution_count": 0,
      "outputs": []
    },
    {
      "cell_type": "markdown",
      "metadata": {
        "id": "z4qk2efoWty9",
        "colab_type": "text"
      },
      "source": [
        "## Constants"
      ]
    },
    {
      "cell_type": "code",
      "metadata": {
        "id": "cyTMYIMGWqfC",
        "colab_type": "code",
        "colab": {}
      },
      "source": [
        "epochs = 5                  # how many rounds of training\n",
        "img_rows, img_cols = 28, 28 # size of the input images"
      ],
      "execution_count": 0,
      "outputs": []
    },
    {
      "cell_type": "markdown",
      "metadata": {
        "id": "-4zEL6AzYIpQ",
        "colab_type": "text"
      },
      "source": [
        "## Functions"
      ]
    },
    {
      "cell_type": "code",
      "metadata": {
        "id": "8NjZrQzzW--z",
        "colab_type": "code",
        "colab": {}
      },
      "source": [
        "def load_data():\n",
        "    \"\"\"\n",
        "    - Load the keras mnist data set\n",
        "    - Split the data set into train and test sets\n",
        "    - scale the images to be between 0 and 1\n",
        "\n",
        "    :returns: train and test sets of the mnist dataset\n",
        "    \"\"\"\n",
        "\n",
        "    mnist = tf.keras.datasets.mnist\n",
        "\n",
        "    (x_train, y_train), (x_test, y_test) = mnist.load_data()\n",
        "    x_train, x_test = x_train / 255.0, x_test / 255.0\n",
        "\n",
        "    return x_train, y_train, x_test, y_test"
      ],
      "execution_count": 0,
      "outputs": []
    },
    {
      "cell_type": "code",
      "metadata": {
        "id": "FuLGawoNXl9I",
        "colab_type": "code",
        "colab": {}
      },
      "source": [
        "def plot_sample(n, x_train, y_train):\n",
        "    \"\"\"\n",
        "    - Pick the n't image of the train set\n",
        "    - Print the label of this image\n",
        "    - plot the handwritten digit\n",
        "\n",
        "    :param n: int, we take the n'th number of the train set\n",
        "    :param x_train: training set containing the images\n",
        "    :param y_train: labels of the training set.\n",
        "    \"\"\"\n",
        "    print(f\"Label: {y_train[n]}\")\n",
        "    plt.imshow(x_train[n].reshape(img_rows,img_cols));"
      ],
      "execution_count": 0,
      "outputs": []
    },
    {
      "cell_type": "code",
      "metadata": {
        "id": "PROAbzFOWXfJ",
        "colab_type": "code",
        "colab": {}
      },
      "source": [
        "def create_model(input_shape):\n",
        "    \"\"\"\n",
        "    Based on the input shape, create a dense neural network\n",
        "    with a single hidden layer, 20% percent dropout and 10 outputs.\n",
        "\n",
        "    :param input_shape: tuple(w,h), images dimensions\n",
        "    :returns: keras sequential neural network\n",
        "    \"\"\"\n",
        "    model = tf.keras.models.Sequential()\n",
        "    model.add(tf.keras.layers.Flatten(input_shape=input_shape))\n",
        "    model.add(tf.keras.layers.Dense(128, activation='relu'))\n",
        "    model.add(tf.keras.layers.Dropout(0.2))\n",
        "    model.add(tf.keras.layers.Dense(10, activation='softmax'))\n",
        "    model.compile(optimizer='adam',\n",
        "                loss='sparse_categorical_crossentropy',\n",
        "                metrics=['accuracy'])\n",
        "    return model"
      ],
      "execution_count": 0,
      "outputs": []
    },
    {
      "cell_type": "markdown",
      "metadata": {
        "id": "JrPT8uzVYPkQ",
        "colab_type": "text"
      },
      "source": [
        "## Load data"
      ]
    },
    {
      "cell_type": "code",
      "metadata": {
        "id": "tjoP1QjtXL_w",
        "colab_type": "code",
        "colab": {
          "base_uri": "https://localhost:8080/",
          "height": 52
        },
        "outputId": "c2dacec2-efc8-4b8f-eabe-80395c9e7d14"
      },
      "source": [
        "x_train, y_train, x_test, y_test = load_data()"
      ],
      "execution_count": 8,
      "outputs": [
        {
          "output_type": "stream",
          "text": [
            "Downloading data from https://storage.googleapis.com/tensorflow/tf-keras-datasets/mnist.npz\n",
            "11493376/11490434 [==============================] - 0s 0us/step\n"
          ],
          "name": "stdout"
        }
      ]
    },
    {
      "cell_type": "markdown",
      "metadata": {
        "id": "_TXG8VpyYR61",
        "colab_type": "text"
      },
      "source": [
        "## Investigate data"
      ]
    },
    {
      "cell_type": "code",
      "metadata": {
        "id": "BC3C8VijSutu",
        "colab_type": "code",
        "colab": {
          "base_uri": "https://localhost:8080/",
          "height": 52
        },
        "outputId": "62fd2303-6922-4fd9-97ae-d1ee5f47d02e"
      },
      "source": [
        "print(f\"Number of training samples: {len(x_train)}\")\n",
        "print(f\"Number of test samples: {len(x_test)}\")"
      ],
      "execution_count": 10,
      "outputs": [
        {
          "output_type": "stream",
          "text": [
            "Number of training samples: 60000\n",
            "Number of test samples: 10000\n"
          ],
          "name": "stdout"
        }
      ]
    },
    {
      "cell_type": "markdown",
      "metadata": {
        "id": "vYdSsKIGTao-",
        "colab_type": "text"
      },
      "source": [
        "### Show a single sample"
      ]
    },
    {
      "cell_type": "code",
      "metadata": {
        "id": "4tc2dEXgXNFd",
        "colab_type": "code",
        "outputId": "000ae3e1-08ef-4d07-e13f-d1b55e68e016",
        "colab": {
          "base_uri": "https://localhost:8080/",
          "height": 282
        }
      },
      "source": [
        "sample_number = 7\n",
        "plot_sample(sample_number, x_train, y_train)"
      ],
      "execution_count": 8,
      "outputs": [
        {
          "output_type": "stream",
          "text": [
            "Label: 3\n"
          ],
          "name": "stdout"
        },
        {
          "output_type": "display_data",
          "data": {
            "image/png": "[encoded data removed]",
            "text/plain": [
              "<Figure size 432x288 with 1 Axes>"
            ]
          },
          "metadata": {
            "tags": []
          }
        }
      ]
    },
    {
      "cell_type": "markdown",
      "metadata": {
        "id": "tkLqP207YUgr",
        "colab_type": "text"
      },
      "source": [
        "## Create model\n",
        "\n",
        "create and compile a model. The weights of this model will be initialized randomly and trained based on the labeled data."
      ]
    },
    {
      "cell_type": "code",
      "metadata": {
        "id": "n58yjfvkVpMC",
        "colab_type": "code",
        "outputId": "7abd2066-5437-4fdd-fe1b-2dddf9676b2e",
        "colab": {
          "base_uri": "https://localhost:8080/",
          "height": 89
        }
      },
      "source": [
        "model = create_model((img_rows, img_cols))"
      ],
      "execution_count": 9,
      "outputs": [
        {
          "output_type": "stream",
          "text": [
            "WARNING:tensorflow:From /usr/local/lib/python3.6/dist-packages/tensorflow_core/python/ops/resource_variable_ops.py:1630: calling BaseResourceVariable.__init__ (from tensorflow.python.ops.resource_variable_ops) with constraint is deprecated and will be removed in a future version.\n",
            "Instructions for updating:\n",
            "If using Keras pass *_constraint arguments to layers.\n"
          ],
          "name": "stdout"
        }
      ]
    },
    {
      "cell_type": "markdown",
      "metadata": {
        "id": "En3Ons8IYbDO",
        "colab_type": "text"
      },
      "source": [
        "## Train Model"
      ]
    },
    {
      "cell_type": "code",
      "metadata": {
        "id": "3v_TdLNMYaJg",
        "colab_type": "code",
        "outputId": "594e6120-4f6a-4caf-9e96-e3b2327a06b5",
        "colab": {
          "base_uri": "https://localhost:8080/",
          "height": 225
        }
      },
      "source": [
        "model.fit(x_train, y_train, epochs=epochs)"
      ],
      "execution_count": 10,
      "outputs": [
        {
          "output_type": "stream",
          "text": [
            "Train on 60000 samples\n",
            "Epoch 1/5\n",
            "60000/60000 [==============================] - 7s 122us/sample - loss: 0.2968 - acc: 0.9140\n",
            "Epoch 2/5\n",
            "60000/60000 [==============================] - 6s 96us/sample - loss: 0.1432 - acc: 0.9574\n",
            "Epoch 3/5\n",
            "60000/60000 [==============================] - 6s 96us/sample - loss: 0.1087 - acc: 0.9664\n",
            "Epoch 4/5\n",
            "60000/60000 [==============================] - 6s 96us/sample - loss: 0.0907 - acc: 0.9724\n",
            "Epoch 5/5\n",
            "60000/60000 [==============================] - 6s 97us/sample - loss: 0.0772 - acc: 0.9763\n"
          ],
          "name": "stdout"
        },
        {
          "output_type": "execute_result",
          "data": {
            "text/plain": [
              "<tensorflow.python.keras.callbacks.History at 0x7fac00ef4470>"
            ]
          },
          "metadata": {
            "tags": []
          },
          "execution_count": 10
        }
      ]
    },
    {
      "cell_type": "markdown",
      "metadata": {
        "id": "az3JreJpYfXu",
        "colab_type": "text"
      },
      "source": [
        "## Evaluate Model"
      ]
    },
    {
      "cell_type": "markdown",
      "metadata": {
        "id": "F001AkPenpYw",
        "colab_type": "text"
      },
      "source": [
        "Check model on test data. This data was not used for training the model"
      ]
    },
    {
      "cell_type": "code",
      "metadata": {
        "id": "Pq7fHbidVrZk",
        "colab_type": "code",
        "outputId": "0b3d60c4-9274-426a-8445-b5f9042d3c1e",
        "colab": {
          "base_uri": "https://localhost:8080/",
          "height": 52
        }
      },
      "source": [
        "score = model.evaluate(x_test,  y_test, verbose=0)\n",
        "print(f\"Model loss    : {score[0]}\")\n",
        "print(f\"Model accuracy: {score[1]}\")"
      ],
      "execution_count": 11,
      "outputs": [
        {
          "output_type": "stream",
          "text": [
            "Model loss    : 0.07623652506433427\n",
            "Model accuracy: 0.9763000011444092\n"
          ],
          "name": "stdout"
        }
      ]
    },
    {
      "cell_type": "markdown",
      "metadata": {
        "id": "WBsi07Wxnu6S",
        "colab_type": "text"
      },
      "source": [
        "## Use the model\n",
        "\n",
        "Assuming we have a new digit, we can use the model to tell us what number the digit is."
      ]
    },
    {
      "cell_type": "markdown",
      "metadata": {
        "id": "VVaJwiFcn4LD",
        "colab_type": "text"
      },
      "source": [
        "take a digit from the test data"
      ]
    },
    {
      "cell_type": "code",
      "metadata": {
        "id": "Or1IXE7gkkVn",
        "colab_type": "code",
        "colab": {}
      },
      "source": [
        "sample = 50"
      ],
      "execution_count": 0,
      "outputs": []
    },
    {
      "cell_type": "markdown",
      "metadata": {
        "id": "b4M1HwYdn80A",
        "colab_type": "text"
      },
      "source": [
        "Plot the digit and show the label"
      ]
    },
    {
      "cell_type": "code",
      "metadata": {
        "id": "vi6Wsq92knQG",
        "colab_type": "code",
        "outputId": "1d78c6b9-4871-4680-97d1-63feebfcba0d",
        "colab": {
          "base_uri": "https://localhost:8080/",
          "height": 282
        }
      },
      "source": [
        "plot_sample(sample, x_test, y_test)"
      ],
      "execution_count": 16,
      "outputs": [
        {
          "output_type": "stream",
          "text": [
            "Label: 6\n"
          ],
          "name": "stdout"
        },
        {
          "output_type": "display_data",
          "data": {
            "image/png": "[encoded data removed]",
            "text/plain": [
              "<Figure size 432x288 with 1 Axes>"
            ]
          },
          "metadata": {
            "tags": []
          }
        }
      ]
    },
    {
      "cell_type": "markdown",
      "metadata": {
        "id": "5BoIjy1qoBB8",
        "colab_type": "text"
      },
      "source": [
        "Use the model to predict the label of this digit"
      ]
    },
    {
      "cell_type": "code",
      "metadata": {
        "id": "BQ49hc3mlwTZ",
        "colab_type": "code",
        "outputId": "d497455e-5b6a-4910-daa8-92a875a0990e",
        "colab": {
          "base_uri": "https://localhost:8080/",
          "height": 34
        }
      },
      "source": [
        "result = model.predict_classes(x_test[sample].reshape(1,28,28))[0]\n",
        "print(f\"Digit is: {result}\")"
      ],
      "execution_count": 17,
      "outputs": [
        {
          "output_type": "stream",
          "text": [
            "Digit is: 6\n"
          ],
          "name": "stdout"
        }
      ]
    }
  ]
}